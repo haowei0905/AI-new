{
  "nbformat": 4,
  "nbformat_minor": 0,
  "metadata": {
    "colab": {
      "name": "keras tutorial 1.ipynb",
      "provenance": []
    },
    "kernelspec": {
      "name": "python3",
      "display_name": "Python 3"
    }
  },
  "cells": [
    {
      "cell_type": "code",
      "metadata": {
        "id": "-TVQetgLipi-",
        "colab_type": "code",
        "colab": {
          "base_uri": "https://localhost:8080/",
          "height": 493
        },
        "outputId": "b53a36d2-66e5-4870-c374-00a9b44b483d"
      },
      "source": [
        "import keras\n",
        "from keras.models import Sequential\n",
        "from keras.layers import Dense\n",
        "\n",
        "import numpy as np\n",
        "data = np.random.random((1000, 10)) #隨機產生1000筆資料，每筆資料1包含十個float數字\n",
        "labels = np.random.randint(2, size=(1000, 1)) #隨機產生1000筆資料，每筆資料上限為2(意思就是0 或 1)\n",
        "print(np.shape(data))\n",
        "print(data[0])\n",
        "print(np.shape(labels))\n",
        "print(labels[0])\n",
        "\n",
        "model = Sequential()\n",
        "model.add(Dense(32, activation='relu', input_dim=10))\n",
        "model.add(Dense(1, activation='sigmoid'))\n",
        "model.compile(optimizer='rmsprop', loss='binary_crossentropy', metrics=['accuracy'])\n",
        "\n",
        "model.fit(data, labels, epochs=10, batch_size=32)\n",
        "\n",
        "score=model.evaluate(data, labels)\n",
        "print(score[1])"
      ],
      "execution_count": 1,
      "outputs": [
        {
          "output_type": "stream",
          "text": [
            "Using TensorFlow backend.\n"
          ],
          "name": "stderr"
        },
        {
          "output_type": "stream",
          "text": [
            "(1000, 10)\n",
            "[0.70682054 0.03676652 0.68093804 0.32527142 0.42123535 0.93201932\n",
            " 0.49825374 0.36396221 0.30862838 0.17193537]\n",
            "(1000, 1)\n",
            "[1]\n",
            "Epoch 1/10\n",
            "1000/1000 [==============================] - 0s 264us/step - loss: 0.6972 - accuracy: 0.5050\n",
            "Epoch 2/10\n",
            "1000/1000 [==============================] - 0s 38us/step - loss: 0.6957 - accuracy: 0.5080\n",
            "Epoch 3/10\n",
            "1000/1000 [==============================] - 0s 39us/step - loss: 0.6950 - accuracy: 0.5070\n",
            "Epoch 4/10\n",
            "1000/1000 [==============================] - 0s 38us/step - loss: 0.6945 - accuracy: 0.5160\n",
            "Epoch 5/10\n",
            "1000/1000 [==============================] - 0s 38us/step - loss: 0.6938 - accuracy: 0.5120\n",
            "Epoch 6/10\n",
            "1000/1000 [==============================] - 0s 35us/step - loss: 0.6937 - accuracy: 0.5020\n",
            "Epoch 7/10\n",
            "1000/1000 [==============================] - 0s 36us/step - loss: 0.6933 - accuracy: 0.5080\n",
            "Epoch 8/10\n",
            "1000/1000 [==============================] - 0s 41us/step - loss: 0.6928 - accuracy: 0.5110\n",
            "Epoch 9/10\n",
            "1000/1000 [==============================] - 0s 37us/step - loss: 0.6920 - accuracy: 0.5150\n",
            "Epoch 10/10\n",
            "1000/1000 [==============================] - 0s 34us/step - loss: 0.6919 - accuracy: 0.5170\n",
            "1000/1000 [==============================] - 0s 33us/step\n",
            "0.5339999794960022\n"
          ],
          "name": "stdout"
        }
      ]
    }
  ]
}