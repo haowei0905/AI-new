{
  "nbformat": 4,
  "nbformat_minor": 0,
  "metadata": {
    "colab": {
      "name": "keras tutorial 2.ipynb",
      "provenance": []
    },
    "kernelspec": {
      "name": "python3",
      "display_name": "Python 3"
    }
  },
  "cells": [
    {
      "cell_type": "code",
      "metadata": {
        "id": "MnjsQHhJi9UZ",
        "colab_type": "code",
        "colab": {
          "base_uri": "https://localhost:8080/",
          "height": 748
        },
        "outputId": "0a6a6e76-33c6-476b-b3e5-775ac18cd679"
      },
      "source": [
        "import keras\n",
        "from keras.models import Sequential\n",
        "from keras.layers import Dense, Dropout, Activation\n",
        "from keras.optimizers import SGD\n",
        "\n",
        "# Generate dummy data\n",
        "import numpy as np\n",
        "x_train = np.random.random((1000, 10))\n",
        "y_train = keras.utils.to_categorical(np.random.randint(10, size=(1000, 1)), num_classes=10)\n",
        "x_test = np.random.random((100, 10))\n",
        "y_test = keras.utils.to_categorical(np.random.randint(10, size=(100, 1)), num_classes=10)\n",
        "\n",
        "model = Sequential()\n",
        "model.add(Dense(64, activation='relu', input_dim=10))\n",
        "model.add(Dense(64, activation='relu'))\n",
        "model.add(Dense(10, activation='softmax'))\n",
        "sgd = SGD(lr=0.01, decay=1e-6, momentum=0.9, nesterov=True)\n",
        "model.compile(loss='categorical_crossentropy', optimizer=sgd, metrics=['accuracy'])\n",
        "\n",
        "model.fit(x_train, y_train, epochs=20, batch_size=128)\n",
        "score = model.evaluate(x_test, y_test, batch_size=128)\n",
        "print(score)"
      ],
      "execution_count": 1,
      "outputs": [
        {
          "output_type": "stream",
          "text": [
            "Using TensorFlow backend.\n"
          ],
          "name": "stderr"
        },
        {
          "output_type": "stream",
          "text": [
            "Epoch 1/20\n",
            "1000/1000 [==============================] - 0s 219us/step - loss: 2.3094 - accuracy: 0.0970\n",
            "Epoch 2/20\n",
            "1000/1000 [==============================] - 0s 13us/step - loss: 2.3062 - accuracy: 0.0970\n",
            "Epoch 3/20\n",
            "1000/1000 [==============================] - 0s 14us/step - loss: 2.3034 - accuracy: 0.0970\n",
            "Epoch 4/20\n",
            "1000/1000 [==============================] - 0s 13us/step - loss: 2.3008 - accuracy: 0.0950\n",
            "Epoch 5/20\n",
            "1000/1000 [==============================] - 0s 13us/step - loss: 2.2987 - accuracy: 0.1030\n",
            "Epoch 6/20\n",
            "1000/1000 [==============================] - 0s 13us/step - loss: 2.2975 - accuracy: 0.1050\n",
            "Epoch 7/20\n",
            "1000/1000 [==============================] - 0s 14us/step - loss: 2.2961 - accuracy: 0.1100\n",
            "Epoch 8/20\n",
            "1000/1000 [==============================] - 0s 14us/step - loss: 2.2949 - accuracy: 0.1130\n",
            "Epoch 9/20\n",
            "1000/1000 [==============================] - 0s 19us/step - loss: 2.2937 - accuracy: 0.1150\n",
            "Epoch 10/20\n",
            "1000/1000 [==============================] - 0s 14us/step - loss: 2.2929 - accuracy: 0.1110\n",
            "Epoch 11/20\n",
            "1000/1000 [==============================] - 0s 14us/step - loss: 2.2917 - accuracy: 0.1150\n",
            "Epoch 12/20\n",
            "1000/1000 [==============================] - 0s 14us/step - loss: 2.2906 - accuracy: 0.1270\n",
            "Epoch 13/20\n",
            "1000/1000 [==============================] - 0s 14us/step - loss: 2.2898 - accuracy: 0.1270\n",
            "Epoch 14/20\n",
            "1000/1000 [==============================] - 0s 16us/step - loss: 2.2890 - accuracy: 0.1280\n",
            "Epoch 15/20\n",
            "1000/1000 [==============================] - 0s 17us/step - loss: 2.2880 - accuracy: 0.1310\n",
            "Epoch 16/20\n",
            "1000/1000 [==============================] - 0s 15us/step - loss: 2.2872 - accuracy: 0.1360\n",
            "Epoch 17/20\n",
            "1000/1000 [==============================] - 0s 15us/step - loss: 2.2864 - accuracy: 0.1420\n",
            "Epoch 18/20\n",
            "1000/1000 [==============================] - 0s 13us/step - loss: 2.2857 - accuracy: 0.1400\n",
            "Epoch 19/20\n",
            "1000/1000 [==============================] - 0s 13us/step - loss: 2.2848 - accuracy: 0.1410\n",
            "Epoch 20/20\n",
            "1000/1000 [==============================] - 0s 13us/step - loss: 2.2841 - accuracy: 0.1420\n",
            "100/100 [==============================] - 0s 196us/step\n",
            "[2.315560817718506, 0.05000000074505806]\n"
          ],
          "name": "stdout"
        }
      ]
    }
  ]
}